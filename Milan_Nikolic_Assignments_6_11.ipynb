{
 "cells": [
  {
   "cell_type": "markdown",
   "metadata": {},
   "source": [
    "# Assignment submission:\n",
    "## SESSION: PYTHON 6, 7, 8, 9,10,11 - Student: Milan Nikolic\n",
    "\n",
    "_Note: Please verify all assignments before using this notebook. I copy-pasted to the best of my ability but please refer to the pdf provided on Acadgild Dashboard. Cheers !!!_"
   ]
  },
  {
   "cell_type": "markdown",
   "metadata": {},
   "source": [
    "# Libraries and Modules: Import\n",
    "\n",
    " - Remeber to use ```;``` (semicolon) at the end of ``plt`` code blocks to avoid ugly prints of object descriptions and location above your graphs and plots. "
   ]
  },
  {
   "cell_type": "code",
   "execution_count": 10,
   "metadata": {},
   "outputs": [],
   "source": [
    "import numpy as np\n",
    "import pandas as pd\n",
    "from datetime import datetime\n",
    "\n",
    "import matplotlib.pyplot as plt\n",
    "%matplotlib inline\n",
    "\n",
    "import sqlite3 as db\n",
    "from pandasql import sqldf\n",
    "import sqlparse\n",
    "import pandasql\n",
    "\n",
    "import scipy as sp\n",
    "\n",
    "\n",
    "#plt.style.use('ggplot')\n",
    "#plt.style.use('seaborn-white')"
   ]
  },
  {
   "cell_type": "markdown",
   "metadata": {},
   "source": [
    "### 2.1. Problem Statement: Numpy <br><br>\n",
    "__Problem Statement 1:__<br><br>\n",
    "Write a function so that the columns of the output matrix are powers of\n",
    "the input vector.<br>\n",
    "The order of the powers is determined by the increasing boolean argument. Specifically, when\n",
    "increasing is False, the i-th output column is the input vector raised element-wise to the power of N - i - 1.<br>\n",
    "\n",
    "<br>HINT: Such a matrix with a geometric progression in each row is named for AlexandreTheophile Vandermonde."
   ]
  },
  {
   "cell_type": "markdown",
   "metadata": {},
   "source": [
    "__Solution:__"
   ]
  },
  {
   "cell_type": "code",
   "execution_count": null,
   "metadata": {},
   "outputs": [],
   "source": []
  },
  {
   "cell_type": "markdown",
   "metadata": {},
   "source": [
    "__Problem Statement 2:__<br><br>\n",
    "Given a sequence of n values x1, x2, ..., xn and a window size k>0, the k-th moving average\n",
    "of the given sequence is defined as follows:<br><br>\n",
    "The moving average sequence has n-k+1 elements as shown below.<br><br>\n",
    "The moving averages with k=4 of a ten-value sequence (n=10) is shown below.<br><br>\n",
    "i 1 2 3 4 5 6 7 8 9 10<br>\n",
    "===== == == == == == == == == == ==<br>\n",
    "Input 10 20 30 40 50 60 70 80 90 100<br>\n",
    "y1 25 = (10+20+30+40)/4<br>\n",
    "y2 35 = (20+30+40+50)/4<br>\n",
    "y3 45 = (30+40+50+60)/4<br>\n",
    "y4 55 = (40+50+60+70)/4<br>\n",
    "y5 65 = (50+60+70+80)/4<br>\n",
    "y6 75 = (60+70+80+90)/4<br>\n",
    "y7 85 = (70+80+90+100)/4<br>\n",
    "Thus, the moving average sequence has n-k+1=10-4+1=7 values.<br><br>\n",
    "__Question:__ Write a function to find moving average in an array over a window:<br><br>\n",
    "Test it over [3, 5, 7, 2, 8, 10, 11, 65, 72, 81, 99, 100, 150] and window of 3."
   ]
  },
  {
   "cell_type": "markdown",
   "metadata": {},
   "source": [
    "__Solution:__"
   ]
  },
  {
   "cell_type": "code",
   "execution_count": null,
   "metadata": {},
   "outputs": [],
   "source": []
  },
  {
   "cell_type": "markdown",
   "metadata": {},
   "source": [
    "### 2.2. Problem Statement: Pandas"
   ]
  },
  {
   "cell_type": "markdown",
   "metadata": {},
   "source": [
    "__Problem Statement 1:__<br><br>\n",
    "1) How-to-count-distance-to-the-previous-zero<br><br>\n",
    "For each value, count the difference of the distance from the previous zero (or the start\n",
    "of the Series, whichever is closer) and if there are no previous zeros, print the position.<br><br>\n",
    "Consider a DataFrame df where there is an integer column {'X'[7, 2, 0, 3, 4, 2, 5, 0, 3, 4]}\n",
    "The values should therefore be [1, 2, 0, 1, 2, 3, 4, 0, 1, 2]. Make this a new column 'Y'.<br><br><br>\n",
    "```import pandas as pd\n",
    "df = pd.DataFrame({'X': [7, 2, 0, 3, 4, 2, 5, 0, 3, 4]})```<br><br>\n",
    "2) Create a DatetimeIndex that contains each business day of 2015 and use it to index a\n",
    "Series of random numbers.<br><br>\n",
    "3) Find the sum of the values in s for every Wednesday<br><br>\n",
    "4) Average For each calendar month<br><br>\n",
    "5) For each group of four consecutive calendar months in s, find the date on which the\n",
    "highest value occurred."
   ]
  },
  {
   "cell_type": "markdown",
   "metadata": {},
   "source": [
    "__Solution:__"
   ]
  },
  {
   "cell_type": "code",
   "execution_count": 11,
   "metadata": {},
   "outputs": [],
   "source": [
    "df = pd.DataFrame({'X': [7, 2, 0, 3, 4, 2, 5, 0, 3, 4]})"
   ]
  },
  {
   "cell_type": "code",
   "execution_count": null,
   "metadata": {},
   "outputs": [],
   "source": []
  },
  {
   "cell_type": "markdown",
   "metadata": {},
   "source": [
    "__Problem Statement 2:__<br><br>\n",
    "Read the dataset from the below link<br><br>\n",
    "https://raw.githubusercontent.com/guipsamora/pandas_exercises/master/06_Stats/US_Baby_Names/US_Baby_Names_right.csv\n",
    "<br><br>__Questions:__<br><br>\n",
    "1) Delete unnamed columns<br><br>\n",
    "2) Show the distribution of male and female<br><br>\n",
    "3) Show the top 5 most preferred names<br><br>\n",
    "4) What is the median name occurrence in the dataset<br><br>\n",
    "5) Distribution of male and female born count by states"
   ]
  },
  {
   "cell_type": "markdown",
   "metadata": {},
   "source": [
    "__Solution:__"
   ]
  },
  {
   "cell_type": "code",
   "execution_count": null,
   "metadata": {},
   "outputs": [],
   "source": []
  },
  {
   "cell_type": "markdown",
   "metadata": {},
   "source": [
    "### 2.3. Problem Statement: Use Cases on Numpy and Pandas"
   ]
  },
  {
   "cell_type": "markdown",
   "metadata": {},
   "source": [
    " __1.__ Write a Python program which accepts a list named : randomList = ['a', 0, 2]. Use exception handling using try-catch which gives the output as:<br><br>\n",
    "Output:<br><br>\n",
    "1) If the List element is an alphabet or string, the output will be:<br><br>\n",
    " ```The entry is a```<br>\n",
    "```Oops! <class 'ValueError'> occured.```<br>\n",
    "```Next entry.```<br><br>\n",
    "2) If the List element is “0”,the output will be<br><br>\n",
    "```The entry is 0```<br>\n",
    "```Oops! <class 'ZeroDivisionError'> occured.```<br>\n",
    "```Next entry.```<br><br>\n",
    "3) If the List element is and integer except 0,then output will be:<br><br>\n",
    "```The entry is 2```<br>\n",
    "```The reciprocal of 2 is 0.5 // reciprocal of an integer```<br>\n"
   ]
  },
  {
   "cell_type": "markdown",
   "metadata": {},
   "source": [
    "__Solution:__"
   ]
  },
  {
   "cell_type": "code",
   "execution_count": null,
   "metadata": {},
   "outputs": [],
   "source": []
  },
  {
   "cell_type": "markdown",
   "metadata": {},
   "source": [
    "__2. Array out of Bound Exception:__<br><br>\n",
    "Write a Python program to give exception “Array Out of Bound” if the user wants to access the\n",
    "elements beyond the list size (use try and except)<br>\n"
   ]
  },
  {
   "cell_type": "markdown",
   "metadata": {},
   "source": [
    "__Solution:__"
   ]
  },
  {
   "cell_type": "code",
   "execution_count": null,
   "metadata": {},
   "outputs": [],
   "source": []
  },
  {
   "cell_type": "markdown",
   "metadata": {},
   "source": [
    "__3.__ Write a python module script that contains fib2() method to calculate the Fibonacci series till 1000 and save it as fibo.py.<br><br>\n",
    "_Note : The module created as fibo.py has to be placed in lib folder_<br><br>\n",
    "_For linux/ubuntu path = /home/anaconda/lib/python3_<br>\n",
    "_For Windows path = C:\\Users\\Ajit\\Anaconda3\\Lib_<br>\n"
   ]
  },
  {
   "cell_type": "markdown",
   "metadata": {},
   "source": [
    "4) Write a python module script that contains ispalindrome() method to calculate the input\n",
    "string as palindrome string or not and save it as palindrome.py.\n"
   ]
  },
  {
   "cell_type": "markdown",
   "metadata": {},
   "source": [
    "__Solution:__"
   ]
  },
  {
   "cell_type": "code",
   "execution_count": null,
   "metadata": {},
   "outputs": [],
   "source": []
  },
  {
   "cell_type": "markdown",
   "metadata": {},
   "source": [
    "__5.__Write a program in Python with one class called __Cipher__.<br><br>\n",
    "Within the constructor of this class, ask user for a string and store it. Use a static variable, key to store a randomly generated integer between 1 and 50 inclusive.<br> \n",
    "Implement two methods, __encrypt__ and __decrypt__ within this class.<br>\n",
    "\n",
    " - Encrypt generates and prints a cipher text using the user-entered string and the key and ecrypt generates decrypted string from ciphertext.<br> \n",
    " - The cipher only encrypts alpha and numeric (A-Z, a-z, 0-9). All Symbols, such as - , ; %, remain unencrypted.\n",
    " - The cipher text can have special characters.<br> \n",
    "\n",
    "Use generator expression to filter out alpha and numeric characters of the input string and to generate cipher text.<br> \n",
    "Create an instance of this class, encrypt and decrypt back the user entered string.<br>\n",
    "\n"
   ]
  },
  {
   "cell_type": "markdown",
   "metadata": {},
   "source": [
    "__Solution:__"
   ]
  },
  {
   "cell_type": "code",
   "execution_count": null,
   "metadata": {},
   "outputs": [],
   "source": []
  },
  {
   "cell_type": "markdown",
   "metadata": {},
   "source": [
    "\n",
    "__6.__ Get Data from the following link:<br><br>\n",
    "http://files.grouplens.org/datasets/movielens/ml-20m.zip <br><br>\n",
    "We will be using the following files for this exercise:<br><br>\n",
    "__ratings.csv : userId,movieId,rating, timestamp<br>\n",
    "tags.csv : userId,movieId, tag, timestamp<br>\n",
    "movies.csv : movieId, title, genres__<br><br>\n",
    "I. Read the dataset using pandas.<br><br>\n",
    "II. Extract the first row from tags and print its type.<br><br>\n",
    "III. Extract row 0, 11, 2000 from tags DataFrame.<br><br>\n",
    "IV. Print index, columns of the DataFrame.<br><br>\n",
    "V. Calculate descriptive statistics for the 'ratings' column of the ratings DataFrame. Verify\n",
    "using describe().<br><br>\n",
    "VI. Filter out ratings with rating > 5<br><br>\n",
    "VII. Find how many null values, missing values are present. Deal with them. Print out how many\n",
    "rows have been modified.<br><br>\n",
    "VIII. Filter out movies from the movies DataFrame that are of type 'Animation'.<br><br>\n",
    "IX. Find the average rating of movies.<br><br>\n",
    "X. Perform an inner join of movies and tags based on movieId.<br><br>\n",
    "XI. Print out the 5 movies that belong to the Comedy genre and have rating greater than 4.<br><br>\n",
    "XII. Split 'genres' into multiple columns.<br><br>\n",
    "XIII. Extract year from title e.g. (1995).<br><br>\n",
    "XIV. Select rows based on timestamps later than 2015-02-01.<br><br>\n",
    "XV. Sort the tags DataFrame based on timestamp.<br><br>"
   ]
  },
  {
   "cell_type": "markdown",
   "metadata": {},
   "source": [
    "### 2.4. Problem Statement: Matplotlib"
   ]
  },
  {
   "cell_type": "markdown",
   "metadata": {},
   "source": [
    "__Matplotlib:__ <br><br>\n",
    "This assignment is for visualization using matplotlib:<br><br>\n",
    "__data to use:__<br><br>\n",
    "url=https://raw.githubusercontent.com/Geoyi/Cleaning-Titanic-Data/master/titanic_original.csv <br><br>\n",
    "```titanic = pd.read_csv(url)``` <br><br>\n",
    "__Charts to plot:__<br><br>\n",
    "1. Create a pie chart presenting the male/female proportion<br>\n",
    "2. Create a scatterplot with the Fare paid and the Age, differ the plot color by gender<br>\n"
   ]
  },
  {
   "cell_type": "markdown",
   "metadata": {},
   "source": [
    "__Solution:__"
   ]
  },
  {
   "cell_type": "code",
   "execution_count": null,
   "metadata": {},
   "outputs": [],
   "source": []
  },
  {
   "cell_type": "markdown",
   "metadata": {},
   "source": [
    "### 2.5. Problem Statement: Data Cleaning"
   ]
  },
  {
   "cell_type": "markdown",
   "metadata": {},
   "source": [
    "It happens all the time: someone gives you data containing malformed strings, Python, lists\n",
    "and missing data. How do you tidy it up so you can get on with the analysis?<br><br>\n",
    "Take this monstrosity as the DataFrame to use in the following puzzles:<br><br>\n",
    "\n",
    "```df = pd.DataFrame({'From_To': ['LoNDon_paris', 'MAdrid_miLAN', 'londON_StockhOlm', 'Budapest_PaRis', 'Brussels_londOn'],'FlightNumber': [10045, np.nan, 10065, np.nan, 10085], 'RecentDelays': [[23, 47], [], [24, 43, 87], [13], [67, 32]], 'Airline': ['KLM(!)', '<Air France> (12)', '(British Airways. )', '12. Air France', '\"Swiss Air\"']})``` <br><br>\n",
    "\n",
    "1. Some values in the the FlightNumber column are missing. These numbers are meant to\n",
    "increase by 10 with each row so 10055 and 10075 need to be put in place. Fill in these missing\n",
    "numbers and make the column an integer column (instead of a float column).<br><br>\n",
    "2. The From_To column would be better as two separate columns! Split each string on the\n",
    "underscore delimiter _ to give a new temporary DataFrame with the correct values. Assign the\n",
    "correct column names to this temporary DataFrame.<br><br>\n",
    "3. Notice how the capitalisation of the city names is all mixed up in this temporary DataFrame.\n",
    "Standardise the strings so that only the first letter is uppercase (e.g. \"londON\" should become\n",
    "\"London\".)<br><br>\n",
    "4. Delete the From_To column from df and attach the temporary DataFrame from the previous\n",
    "questions.<br><br>\n",
    "5. In the RecentDelays column, the values have been entered into the DataFrame as a list. We\n",
    "would like each first value in its own column, each second value in its own column, and so on. If\n",
    "there isn't an Nth value, the value should be NaN.\n",
    "Expand the Series of lists into a DataFrame named delays, rename the columns delay_1,\n",
    "delay_2, etc. and replace the unwanted RecentDelays column in df with delays.\n",
    "\n"
   ]
  },
  {
   "cell_type": "code",
   "execution_count": 12,
   "metadata": {},
   "outputs": [],
   "source": [
    "f = pd.DataFrame({\n",
    "    'From_To': ['LoNDon_paris', 'MAdrid_miLAN', 'londON_StockhOlm', 'Budapest_PaRis', 'Brussels_londOn'],\n",
    "    'FlightNumber': [10045, np.nan, 10065, np.nan, 10085], \n",
    "    'RecentDelays': [[23, 47], [], [24, 43, 87], [13], [67, 32]], \n",
    "    'Airline': ['KLM(!)', '<Air France> (12)', '(British Airways. )', '12. Air France', '\"Swiss Air\"']}) \n"
   ]
  },
  {
   "cell_type": "markdown",
   "metadata": {},
   "source": [
    "### 2.6. Problem Statement: Pandas SQL"
   ]
  },
  {
   "cell_type": "markdown",
   "metadata": {},
   "source": [
    "Problem statement 1:\n",
    "Read the following data set:\n",
    "https://archive.ics.uci.edu/ml/machine-learning-databases/adult/\n",
    "Rename the columns as per the description from this file:\n",
    "https://archive.ics.uci.edu/ml/machine-learning-databases/adult/adult.names\n",
    "\n",
    "Task:\n",
    "Create a sql db from adult dataset and name it sqladb\n",
    "1. Select 10 records from the adult sqladb\n",
    "2. Show me the average hours per week of all men who are working in private sector\n",
    "3. Show me the frequency table for education, occupation and relationship, separately\n",
    "4. Are there any people who are married, working in private sector and having a master’s\n",
    "degree\n",
    "5. What is the average, minimum and maximum age group for people working in\n",
    "different sectors\n",
    "6. Calculate age distribution by country\n",
    "\n",
    "7. Compute a new column as 'Net-Capital-Gain' from the two columns 'capitalgain' and 'capital-\n",
    "loss'\n",
    "\n",
    "Problem statement 2:\n",
    "Read the following data set:\n",
    "https://archive.ics.uci.edu/ml/machine-learning-databases/adult/adult.data\n",
    "Task:\n",
    "1. Create an sqlalchemy engine using a sample from the data set\n",
    "2. Write two basic update queries\n",
    "3. Write two delete queries\n",
    "4. Write two filter queries\n",
    "5. Write two function queries\n",
    "\n",
    "Note: Solution submitted via github must contain all the detailed steps.\n",
    "\n",
    "3.Output\n",
    "This assignment consists of 1500 marks and needs to be submitted in Github. You can\n",
    "follow Github submission guide provided to do the same."
   ]
  },
  {
   "cell_type": "markdown",
   "metadata": {},
   "source": [
    "### 3.Output\n",
    "This assignment consists of 1500 marks and needs to be submitted in Github. You can\n",
    "follow Github submission guide provided to do the same."
   ]
  },
  {
   "cell_type": "code",
   "execution_count": null,
   "metadata": {},
   "outputs": [],
   "source": []
  }
 ],
 "metadata": {
  "kernelspec": {
   "display_name": "Python 3",
   "language": "python",
   "name": "python3"
  },
  "language_info": {
   "codemirror_mode": {
    "name": "ipython",
    "version": 3
   },
   "file_extension": ".py",
   "mimetype": "text/x-python",
   "name": "python",
   "nbconvert_exporter": "python",
   "pygments_lexer": "ipython3",
   "version": "3.7.3"
  },
  "varInspector": {
   "cols": {
    "lenName": 16,
    "lenType": 16,
    "lenVar": 40
   },
   "kernels_config": {
    "python": {
     "delete_cmd_postfix": "",
     "delete_cmd_prefix": "del ",
     "library": "var_list.py",
     "varRefreshCmd": "print(var_dic_list())"
    },
    "r": {
     "delete_cmd_postfix": ") ",
     "delete_cmd_prefix": "rm(",
     "library": "var_list.r",
     "varRefreshCmd": "cat(var_dic_list()) "
    }
   },
   "types_to_exclude": [
    "module",
    "function",
    "builtin_function_or_method",
    "instance",
    "_Feature"
   ],
   "window_display": false
  }
 },
 "nbformat": 4,
 "nbformat_minor": 2
}
